{
 "cells": [
  {
   "cell_type": "code",
   "execution_count": 1,
   "id": "collective-chocolate",
   "metadata": {},
   "outputs": [],
   "source": [
    "# import pytorch libraries\n",
    "%matplotlib inline\n",
    "import torch \n",
    "import torch.autograd as autograd \n",
    "import torch.nn as nn \n",
    "import torch.nn.functional as F\n",
    "import torch.optim as optim\n",
    "import numpy as np\n",
    "import pandas as pd\n",
    "from tqdm.notebook import tqdm\n",
    "from torch.utils.data import Dataset, DataLoader"
   ]
  },
  {
   "cell_type": "code",
   "execution_count": 2,
   "id": "minus-delta",
   "metadata": {},
   "outputs": [],
   "source": [
    "import spacy\n",
    "import nltk\n",
    "import string\n",
    "from collections import defaultdict, Counter\n",
    "from sklearn.feature_extraction.text import ENGLISH_STOP_WORDS\n",
    "from nltk.stem import WordNetLemmatizer\n",
    "import re\n",
    "from sklearn.model_selection import train_test_split\n",
    "\n",
    "import matplotlib.pyplot as plt\n",
    "%matplotlib inline\n",
    "import seaborn as sns\n",
    "import warnings"
   ]
  },
  {
   "cell_type": "code",
   "execution_count": 3,
   "id": "serious-amsterdam",
   "metadata": {},
   "outputs": [
    {
     "name": "stderr",
     "output_type": "stream",
     "text": [
      "[nltk_data] Downloading package punkt to /Users/lolu/nltk_data...\n",
      "[nltk_data]   Package punkt is already up-to-date!\n"
     ]
    },
    {
     "data": {
      "text/plain": [
       "True"
      ]
     },
     "execution_count": 3,
     "metadata": {},
     "output_type": "execute_result"
    }
   ],
   "source": [
    "nltk.download('punkt')"
   ]
  },
  {
   "cell_type": "code",
   "execution_count": 3,
   "id": "heard-confirmation",
   "metadata": {},
   "outputs": [],
   "source": [
    "df = pd.read_csv('data/train.csv')\n",
    "df_test = pd.read_csv('data/test.csv')\n",
    "df_test_label = pd.read_csv('data/test_labels.csv')"
   ]
  },
  {
   "cell_type": "markdown",
   "id": "popular-remove",
   "metadata": {},
   "source": [
    "The strategy here is spliting training into tran and validation and test it with df_test."
   ]
  },
  {
   "cell_type": "code",
   "execution_count": 4,
   "id": "natural-feeling",
   "metadata": {
    "scrolled": true
   },
   "outputs": [
    {
     "data": {
      "text/plain": [
       "\"Explanation\\nWhy the edits made under my username Hardcore Metallica Fan were reverted? They weren't vandalisms, just closure on some GAs after I voted at New York Dolls FAC. And please don't remove the template from the talk page since I'm retired now.89.205.38.27\""
      ]
     },
     "execution_count": 4,
     "metadata": {},
     "output_type": "execute_result"
    }
   ],
   "source": [
    "df['comment_text'][0]"
   ]
  },
  {
   "cell_type": "markdown",
   "id": "married-runner",
   "metadata": {},
   "source": [
    "## 0. Convert to binary outcome"
   ]
  },
  {
   "cell_type": "code",
   "execution_count": 5,
   "id": "nominated-pulse",
   "metadata": {},
   "outputs": [],
   "source": [
    "def changBinary(x):\n",
    "    if x['toxic'] == 0 and x['obscene'] == 0 and x['threat']==0 and x['insult']==0 and x['identity_hate']==0:\n",
    "        return 0\n",
    "    else:\n",
    "        return 1"
   ]
  },
  {
   "cell_type": "code",
   "execution_count": 6,
   "id": "liable-recipient",
   "metadata": {},
   "outputs": [],
   "source": [
    "df['target'] = df.apply(lambda x:changBinary(x), axis=1)"
   ]
  },
  {
   "cell_type": "code",
   "execution_count": 7,
   "id": "sought-repository",
   "metadata": {},
   "outputs": [
    {
     "data": {
      "text/plain": [
       "0    143346\n",
       "1     16225\n",
       "Name: target, dtype: int64"
      ]
     },
     "execution_count": 7,
     "metadata": {},
     "output_type": "execute_result"
    }
   ],
   "source": [
    "df['target'].value_counts()"
   ]
  },
  {
   "cell_type": "markdown",
   "id": "passing-james",
   "metadata": {},
   "source": [
    "## 1. Clean the text\n",
    "\n",
    "we clean the text by get rid of the non-string characters in the words."
   ]
  },
  {
   "cell_type": "code",
   "execution_count": 8,
   "id": "coated-instrumentation",
   "metadata": {},
   "outputs": [],
   "source": [
    "def tokenize(text):\n",
    "    \"\"\"\n",
    "    Tokenize text and return a non-unique list of tokenized words\n",
    "    found in the text. Normalize to lowercase, strip punctuation,\n",
    "    remove stop words, drop words of length < 3, strip digits.\n",
    "    \"\"\"\n",
    "    text = text.lower()\n",
    "    text = re.sub('[' + string.punctuation + '0-9\\\\r\\\\t\\\\n]', ' ', text)\n",
    "    tokens = nltk.word_tokenize(text)\n",
    "    tokens = [w for w in tokens if (len(w) > 2)]  # ignore a, an, to, at, be, ...\n",
    "    return tokens"
   ]
  },
  {
   "cell_type": "code",
   "execution_count": 11,
   "id": "current-error",
   "metadata": {},
   "outputs": [],
   "source": [
    "X = [tokenize(row) for row in df['comment_text'].values]\n",
    "y = df['target'].values"
   ]
  },
  {
   "cell_type": "code",
   "execution_count": 5,
   "id": "isolated-trigger",
   "metadata": {},
   "outputs": [],
   "source": [
    "df_clean = pd.read_csv('data/train_clean.csv')"
   ]
  },
  {
   "cell_type": "markdown",
   "id": "unavailable-spelling",
   "metadata": {},
   "source": [
    "## 2. Word2Vec"
   ]
  },
  {
   "cell_type": "markdown",
   "id": "fuzzy-audience",
   "metadata": {},
   "source": [
    "This part shows the process of Word2Vec. We first create a dict containing all the uniqe words appearing in the comment, and then treat it as a categorical variables. Adding \"UKN\" to handle the words that not in traing set. "
   ]
  },
  {
   "cell_type": "markdown",
   "id": "documented-slope",
   "metadata": {},
   "source": [
    "### 2.1 create a word_dic containing all the unique word with k=word, v=frequency"
   ]
  },
  {
   "cell_type": "code",
   "execution_count": 12,
   "id": "mediterranean-compiler",
   "metadata": {},
   "outputs": [],
   "source": [
    "def get_vocab(content):\n",
    "    \"\"\"\n",
    "    Computes the number of times a word is on a document.\n",
    "    \"\"\"\n",
    "    vocab = defaultdict(float)\n",
    "    for row in content:\n",
    "        # get unique words\n",
    "        words = set(row)\n",
    "        for word in words:\n",
    "            vocab[word] += 1\n",
    "    return vocab  \n",
    "\n",
    "def del_rare(count_dict, min_fqc=5):\n",
    "    \"\"\"\n",
    "    Deletes words from word_count if they don't have at least min_df occurrencies in word_count.\n",
    "    \"\"\"\n",
    "    words_delete = []\n",
    "    for word in count_dict.keys():\n",
    "        if count_dict[word] < min_fqc:\n",
    "            words_delete.append(word)\n",
    "    for word in words_delete: \n",
    "        count_dict.pop(word)\n",
    "    return count_dict"
   ]
  },
  {
   "cell_type": "code",
   "execution_count": 13,
   "id": "assisted-pizza",
   "metadata": {},
   "outputs": [],
   "source": [
    "word_count_dict = get_vocab(X)\n",
    "word_count_dict = del_rare(word_count_dict, min_fqc=5)"
   ]
  },
  {
   "cell_type": "code",
   "execution_count": 14,
   "id": "generic-retreat",
   "metadata": {},
   "outputs": [
    {
     "data": {
      "text/plain": [
       "34672"
      ]
     },
     "execution_count": 14,
     "metadata": {},
     "output_type": "execute_result"
    }
   ],
   "source": [
    "len(word_count_dict)"
   ]
  },
  {
   "cell_type": "code",
   "execution_count": 15,
   "id": "southwest-junior",
   "metadata": {},
   "outputs": [],
   "source": [
    "# create word2vec by word_dict\n",
    "word2index = {\"<pad>\":0, \"UNK\":1}\n",
    "words = [\"<PAD>\", \"UNK\"]\n",
    "for word in word_count_dict:\n",
    "    word2index[word] = len(words)\n",
    "    words.append(word)"
   ]
  },
  {
   "cell_type": "markdown",
   "id": "lesser-disorder",
   "metadata": {},
   "source": [
    "### 2.2 Encode sentence uding word2vec_dict (use number to represent sentence)"
   ]
  },
  {
   "cell_type": "code",
   "execution_count": 16,
   "id": "sharing-findings",
   "metadata": {},
   "outputs": [],
   "source": [
    "X_lenght = np.array([len(w) for w in X])"
   ]
  },
  {
   "cell_type": "code",
   "execution_count": 17,
   "id": "cooked-puppy",
   "metadata": {},
   "outputs": [
    {
     "data": {
      "text/plain": [
       "70.0"
      ]
     },
     "execution_count": 17,
     "metadata": {},
     "output_type": "execute_result"
    }
   ],
   "source": [
    "np.percentile(X_lenght,80) # choose 100 as the cut off point"
   ]
  },
  {
   "cell_type": "code",
   "execution_count": 18,
   "id": "pointed-phrase",
   "metadata": {},
   "outputs": [
    {
     "data": {
      "image/png": "[encoded data removed]",
      "text/plain": [
       "<Figure size 432x288 with 1 Axes>"
      ]
     },
     "metadata": {
      "needs_background": "light"
     },
     "output_type": "display_data"
    }
   ],
   "source": [
    "plt.figure(figsize=(6,4))\n",
    "sns.histplot(X_lenght, bins=60, kde=True)\n",
    "plt.xlabel('text length')\n",
    "plt.vlines(100, 0, 80000, color = 'red')\n",
    "plt.show()"
   ]
  },
  {
   "cell_type": "code",
   "execution_count": 19,
   "id": "duplicate-brown",
   "metadata": {},
   "outputs": [],
   "source": [
    "def encode_sentence(s, N, vocab2index):\n",
    "    encode_out = np.zeros(N, dtype=np.int32)\n",
    "    encode_len = np.array([vocab2index.get(w, vocab2index[\"UNK\"]) for w in s])\n",
    "    lenght = min(N, len(encode_len))\n",
    "    encode_out[:lenght] = encode_len[:lenght]\n",
    "    return encode_out, lenght"
   ]
  },
  {
   "cell_type": "code",
   "execution_count": 20,
   "id": "precise-decrease",
   "metadata": {},
   "outputs": [],
   "source": [
    "X_encode = np.vstack([encode_sentence(row, 100, word2index) for row in X])"
   ]
  },
  {
   "cell_type": "code",
   "execution_count": 21,
   "id": "reserved-muslim",
   "metadata": {},
   "outputs": [],
   "source": [
    "# train-valid split()\n",
    "X_train, X_valid, y_train, y_valid = train_test_split(X_encode, y, test_size=0.2)"
   ]
  },
  {
   "cell_type": "code",
   "execution_count": 22,
   "id": "superb-dispatch",
   "metadata": {},
   "outputs": [
    {
     "data": {
      "text/plain": [
       "(114746, 12910, 28600, 3315)"
      ]
     },
     "execution_count": 22,
     "metadata": {},
     "output_type": "execute_result"
    }
   ],
   "source": [
    "sum(y_train==0), sum(y_train==1), sum(y_valid==0), sum(y_valid==1)"
   ]
  },
  {
   "cell_type": "code",
   "execution_count": 28,
   "id": "piano-baltimore",
   "metadata": {},
   "outputs": [
    {
     "data": {
      "text/plain": [
       "(tensor([  281,    97,   180,   272, 19740,   963,    39,   110,     3,   504,\n",
       "           126,  4324,    25,   901,   108,  2504,   867,   116,    89,    49,\n",
       "             2, 18570,   108,   953,   157,  1505,    39,   110,   154,   144,\n",
       "          1540,  1385, 19445,     0,     0,     0,     0,     0,     0,     0,\n",
       "             0,     0,     0,     0,     0,     0,     0,     0,     0,     0,\n",
       "             0,     0,     0,     0,     0,     0,     0,     0,     0,     0,\n",
       "             0,     0,     0,     0,     0,     0,     0,     0,     0,     0,\n",
       "             0,     0,     0,     0,     0,     0,     0,     0,     0,     0,\n",
       "             0,     0,     0,     0,     0,     0,     0,     0,     0,     0,\n",
       "             0,     0,     0,     0,     0,     0,     0,     0,     0,     0]),\n",
       " tensor(0.))"
      ]
     },
     "execution_count": 28,
     "metadata": {},
     "output_type": "execute_result"
    }
   ],
   "source": [
    "class IMDBDataset(Dataset):\n",
    "    def __init__(self, df, label, word_dict=0, max_length=0):\n",
    "        self.df = df\n",
    "        self.label = label\n",
    "        #self.word_dict = word_dict\n",
    "        #self.sent_dict = {'negative': 0, 'positive': 1}\n",
    "        #self.max_len = max_length\n",
    "    \n",
    "    def __len__(self):\n",
    "        return len(self.df)\n",
    "    \n",
    "    def __getitem__(self, idx):\n",
    "        row = self.df[idx]\n",
    "        \n",
    "        x = torch.tensor(row[0])\n",
    "        \n",
    "       \n",
    "            \n",
    "        y = torch.tensor(self.label[idx]).float()\n",
    "        \n",
    "        # embedding likes long tensors\n",
    "        return x.long(), y\n",
    "ds = IMDBDataset(X_train, y_train)\n",
    "next(iter(ds))"
   ]
  },
  {
   "cell_type": "code",
   "execution_count": 34,
   "id": "approximate-chancellor",
   "metadata": {},
   "outputs": [],
   "source": [
    "# Load tiny data into data loader for batching\n",
    "batch = 100\n",
    "train_dl = DataLoader(IMDBDataset(X_train, y_train), batch_size=batch, shuffle=True)\n",
    "valid_dl = DataLoader(IMDBDataset(X_valid, y_valid), batch_size=batch, shuffle=False)"
   ]
  },
  {
   "cell_type": "code",
   "execution_count": 29,
   "id": "cellular-retirement",
   "metadata": {},
   "outputs": [],
   "source": [
    "def one_pass(model, dataloader, optimizer, lossFun, backwards=True, print_loss=False):\n",
    "    \n",
    "    if backwards == True:\n",
    "        model.train()\n",
    "    else:\n",
    "        model.eval()\n",
    "    \n",
    "    total_loss = 0.0\n",
    "    for x, y in tqdm(dataloader):\n",
    "        \n",
    "        y_pred = model(x)\n",
    "        loss = lossFun(y_pred, y)\n",
    "        total_loss += loss.item()\n",
    "        \n",
    "        if backwards == True:\n",
    "            optimizer.zero_grad()\n",
    "            loss.backward()\n",
    "            optimizer.step()\n",
    "    avg_loss = total_loss / len(dataloader)\n",
    "    \n",
    "    if print_loss == True:\n",
    "        print(avg_loss)\n",
    "    \n",
    "    return avg_loss\n",
    "\n",
    "def one_pass_acc(model, dataloader, num_points):\n",
    "    model.eval()\n",
    "    total_incorrect = 0\n",
    "        \n",
    "    for x, y in dataloader:\n",
    "        y_pred = (torch.sigmoid(model(x)) > 0.5).float()\n",
    "        \n",
    "        total_incorrect += torch.count_nonzero(y - y_pred).item()\n",
    "        \n",
    "    percent_wrong = total_incorrect / num_points\n",
    "    return 1 - percent_wrong"
   ]
  },
  {
   "cell_type": "code",
   "execution_count": 41,
   "id": "smooth-actor",
   "metadata": {},
   "outputs": [],
   "source": [
    "class CBOW(nn.Module):\n",
    "    def __init__(self, dict_length, embedding_size):\n",
    "        super(CBOW, self).__init__()\n",
    "        # padding index turns off gradient for unknown tokens\n",
    "        self.word_emb = nn.Embedding(dict_length, embedding_size, padding_idx=0)\n",
    "        self.linear = nn.Linear(embedding_size, 1)\n",
    "        self.emb_size = embedding_size\n",
    "        \n",
    "    def forward(self, x):\n",
    "        sent_length = x.shape[1]\n",
    "        x = self.word_emb(x)\n",
    "        with torch.no_grad():\n",
    "            sent_length = torch.count_nonzero(x, dim=1)\n",
    "        x = torch.sum(x, dim=1) / sent_length\n",
    "        x = self.linear(x)\n",
    "        return torch.squeeze(x)"
   ]
  },
  {
   "cell_type": "code",
   "execution_count": 42,
   "id": "common-width",
   "metadata": {},
   "outputs": [
    {
     "data": {
      "application/vnd.jupyter.widget-view+json": {
       "model_id": "fd365b8a5a8245b7bd91b1d9531078e2",
       "version_major": 2,
       "version_minor": 0
      },
      "text/plain": [
       "  0%|          | 0/5 [00:00<?, ?it/s]"
      ]
     },
     "metadata": {},
     "output_type": "display_data"
    },
    {
     "name": "stdout",
     "output_type": "stream",
     "text": [
      "Epoch:  0\n"
     ]
    },
    {
     "data": {
      "application/vnd.jupyter.widget-view+json": {
       "model_id": "8112b47ce63e4da2a435fd3308ede1ef",
       "version_major": 2,
       "version_minor": 0
      },
      "text/plain": [
       "  0%|          | 0/1277 [00:00<?, ?it/s]"
      ]
     },
     "metadata": {},
     "output_type": "display_data"
    },
    {
     "name": "stdout",
     "output_type": "stream",
     "text": [
      "Train loss:  nan\n"
     ]
    },
    {
     "data": {
      "application/vnd.jupyter.widget-view+json": {
       "model_id": "05eb144737614f1e882bb93d7774cf59",
       "version_major": 2,
       "version_minor": 0
      },
      "text/plain": [
       "  0%|          | 0/320 [00:00<?, ?it/s]"
      ]
     },
     "metadata": {},
     "output_type": "display_data"
    },
    {
     "name": "stdout",
     "output_type": "stream",
     "text": [
      "Valid loss:  nan\n",
      "Train Acc:  0.8988688349940465\n",
      "Valid Acc:  0.8961303462321792\n",
      "Epoch:  1\n"
     ]
    },
    {
     "data": {
      "application/vnd.jupyter.widget-view+json": {
       "model_id": "d1224fbfa16840c09a86c0882bec8ee3",
       "version_major": 2,
       "version_minor": 0
      },
      "text/plain": [
       "  0%|          | 0/1277 [00:00<?, ?it/s]"
      ]
     },
     "metadata": {},
     "output_type": "display_data"
    },
    {
     "name": "stdout",
     "output_type": "stream",
     "text": [
      "Train loss:  nan\n"
     ]
    },
    {
     "data": {
      "application/vnd.jupyter.widget-view+json": {
       "model_id": "954232bf272b4ff09565c4dd3f377a3c",
       "version_major": 2,
       "version_minor": 0
      },
      "text/plain": [
       "  0%|          | 0/320 [00:00<?, ?it/s]"
      ]
     },
     "metadata": {},
     "output_type": "display_data"
    },
    {
     "name": "stdout",
     "output_type": "stream",
     "text": [
      "Valid loss:  nan\n",
      "Train Acc:  0.8988688349940465\n",
      "Valid Acc:  0.8961303462321792\n",
      "Epoch:  2\n"
     ]
    },
    {
     "data": {
      "application/vnd.jupyter.widget-view+json": {
       "model_id": "d044fbbfc08d4b3d8d073dc02137ff47",
       "version_major": 2,
       "version_minor": 0
      },
      "text/plain": [
       "  0%|          | 0/1277 [00:00<?, ?it/s]"
      ]
     },
     "metadata": {},
     "output_type": "display_data"
    },
    {
     "name": "stdout",
     "output_type": "stream",
     "text": [
      "Train loss:  nan\n"
     ]
    },
    {
     "data": {
      "application/vnd.jupyter.widget-view+json": {
       "model_id": "25386ab2534c4fff814453d7d14d890f",
       "version_major": 2,
       "version_minor": 0
      },
      "text/plain": [
       "  0%|          | 0/320 [00:00<?, ?it/s]"
      ]
     },
     "metadata": {},
     "output_type": "display_data"
    },
    {
     "name": "stdout",
     "output_type": "stream",
     "text": [
      "Valid loss:  nan\n",
      "Train Acc:  0.8988688349940465\n",
      "Valid Acc:  0.8961303462321792\n",
      "Epoch:  3\n"
     ]
    },
    {
     "data": {
      "application/vnd.jupyter.widget-view+json": {
       "model_id": "b8c79a3389a14ef7b659915ba8bdf3b7",
       "version_major": 2,
       "version_minor": 0
      },
      "text/plain": [
       "  0%|          | 0/1277 [00:00<?, ?it/s]"
      ]
     },
     "metadata": {},
     "output_type": "display_data"
    },
    {
     "name": "stdout",
     "output_type": "stream",
     "text": [
      "Train loss:  nan\n"
     ]
    },
    {
     "data": {
      "application/vnd.jupyter.widget-view+json": {
       "model_id": "223159f44bf04db0b94701ea44af7ed7",
       "version_major": 2,
       "version_minor": 0
      },
      "text/plain": [
       "  0%|          | 0/320 [00:00<?, ?it/s]"
      ]
     },
     "metadata": {},
     "output_type": "display_data"
    },
    {
     "name": "stdout",
     "output_type": "stream",
     "text": [
      "Valid loss:  nan\n",
      "Train Acc:  0.8988688349940465\n",
      "Valid Acc:  0.8961303462321792\n",
      "Epoch:  4\n"
     ]
    },
    {
     "data": {
      "application/vnd.jupyter.widget-view+json": {
       "model_id": "a654a71192864a70824c04c425780513",
       "version_major": 2,
       "version_minor": 0
      },
      "text/plain": [
       "  0%|          | 0/1277 [00:00<?, ?it/s]"
      ]
     },
     "metadata": {},
     "output_type": "display_data"
    },
    {
     "name": "stdout",
     "output_type": "stream",
     "text": [
      "Train loss:  nan\n"
     ]
    },
    {
     "data": {
      "application/vnd.jupyter.widget-view+json": {
       "model_id": "8c0cf5e343a24640b17f59991f9781c7",
       "version_major": 2,
       "version_minor": 0
      },
      "text/plain": [
       "  0%|          | 0/320 [00:00<?, ?it/s]"
      ]
     },
     "metadata": {},
     "output_type": "display_data"
    },
    {
     "name": "stdout",
     "output_type": "stream",
     "text": [
      "Valid loss:  nan\n",
      "Train Acc:  0.8988688349940465\n",
      "Valid Acc:  0.8961303462321792\n"
     ]
    }
   ],
   "source": [
    "cbow_model = CBOW(len(word2index), 100)\n",
    "lossFun = nn.BCEWithLogitsLoss()\n",
    "optimizer = optim.Adam(cbow_model.parameters(), lr = 0.001)\n",
    "\n",
    "num_epochs = 5\n",
    "\n",
    "\n",
    "train_losses = []\n",
    "valid_losses = []\n",
    "\n",
    "for epoch in tqdm(range(num_epochs)):\n",
    "    print('Epoch: ', epoch)\n",
    "    \n",
    "    train_loss = one_pass(cbow_model, train_dl, optimizer, lossFun)\n",
    "    train_losses.append(train_loss)\n",
    "    print('Train loss: ', train_loss)\n",
    "    \n",
    "    valid_loss = one_pass(cbow_model, valid_dl, optimizer, lossFun, backwards=False)\n",
    "    valid_losses.append(valid_loss)\n",
    "    print('Valid loss: ', valid_loss)\n",
    "    \n",
    "    train_acc = one_pass_acc(cbow_model, train_dl, len(X_train))\n",
    "    valid_acc = one_pass_acc(cbow_model, valid_dl, len(X_valid))\n",
    "    print('Train Acc: ', train_acc)\n",
    "    print('Valid Acc: ', valid_acc)"
   ]
  },
  {
   "cell_type": "code",
   "execution_count": null,
   "id": "corporate-tender",
   "metadata": {},
   "outputs": [],
   "source": []
  },
  {
   "cell_type": "code",
   "execution_count": null,
   "id": "afraid-seafood",
   "metadata": {},
   "outputs": [],
   "source": []
  }
 ],
 "metadata": {
  "kernelspec": {
   "display_name": "Python 3",
   "language": "python",
   "name": "python3"
  },
  "language_info": {
   "codemirror_mode": {
    "name": "ipython",
    "version": 3
   },
   "file_extension": ".py",
   "mimetype": "text/x-python",
   "name": "python",
   "nbconvert_exporter": "python",
   "pygments_lexer": "ipython3",
   "version": "3.8.3"
  }
 },
 "nbformat": 4,
 "nbformat_minor": 5
}
